{
  "nbformat": 4,
  "nbformat_minor": 0,
  "metadata": {
    "colab": {
      "provenance": [],
      "authorship_tag": "ABX9TyPljYOB//J/0k8ReLPptOnP",
      "include_colab_link": true
    },
    "kernelspec": {
      "name": "python3",
      "display_name": "Python 3"
    },
    "language_info": {
      "name": "python"
    }
  },
  "cells": [
    {
      "cell_type": "markdown",
      "metadata": {
        "id": "view-in-github",
        "colab_type": "text"
      },
      "source": [
        "<a href=\"https://colab.research.google.com/github/Naveen-King/Zomoto_Restaurant_Clustering_and_Sentiment_Analysis/blob/main/Zomoto_Restaurant_Clustering_and_Sentiment_Analysis.ipynb\" target=\"_parent\"><img src=\"https://colab.research.google.com/assets/colab-badge.svg\" alt=\"Open In Colab\"/></a>"
      ]
    },
    {
      "cell_type": "markdown",
      "source": [
        " <font size=\"+2\" color='#053c96'><b> Project Name </b></font>\n",
        "\n",
        "$\\color{red}{\\text{Zomoto Restaurant Clustering and Sentiment Analysis}}$"
      ],
      "metadata": {
        "id": "ueMlDGWZADza"
      }
    },
    {
      "cell_type": "markdown",
      "source": [
        "![zomato.jpg](data:image/jpeg;base64,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)"
      ],
      "metadata": {
        "id": "-ZELIXF3A-SP"
      }
    },
    {
      "cell_type": "markdown",
      "source": [
        "##### **Project Type**    - Unsupervised ML\n",
        "##### **Contribution**    - Individual\n",
        "##### **Team Member 1**-  $\\color{green}{\\text{Navneet Singh}}$\n"
      ],
      "metadata": {
        "id": "KbgqCCNcBJFn"
      }
    },
    {
      "cell_type": "markdown",
      "source": [
        "#<font size=\"+2\" color='#053c96'><b> Problem Statement </b></font>"
      ],
      "metadata": {
        "id": "733zU_flBJCI"
      }
    },
    {
      "cell_type": "markdown",
      "source": [
        "\n",
        "\n",
        "Zomato is an Indian restaurant aggregator and food delivery start-up founded by Deepinder Goyal and Pankaj Chaddah in 2008. Zomato provides information, menus and user-reviews of restaurants, and also has food delivery options from partner restaurants in select cities.\n",
        "\n",
        "India is quite famous for its diverse multi cuisine available in a large number of restaurants and hotel resorts, which is reminiscent of unity in diversity. Restaurant business in India is always evolving. More Indians are warming up to the idea of eating restaurant food whether by dining outside or getting food delivered. The growing number of restaurants in every state of India has been a motivation to inspect the data to get some insights, interesting facts and figures about the Indian food industry in each city. So, this project focuses on analysing the Zomato restaurant data for each city in India.\n",
        "\n",
        "The Project focuses on Customers and Company, you have to analyze the sentiments of the reviews given by the customer in the data and made some useful conclusion in the form of Visualizations. Also, cluster the zomato restaurants into different segments. The data is vizualized as it becomes easy to analyse data at instant. The Analysis also solve some of the business cases that can directly help the customers finding the Best restaurant in their locality and for the company to grow up and work on the fields they are currently lagging in.\n",
        "\n",
        "This could help in clustering the restaurants into segments. Also the data has valuable information around cuisine and costing which can be used in cost vs. benefit analysis\n",
        "\n",
        "Data could be used for sentiment analysis. Also the metadata of reviewers can be used for identifying the critics in the industry.\n"
      ],
      "metadata": {
        "id": "XTQsPrXcBI-U"
      }
    },
    {
      "cell_type": "markdown",
      "source": [
        "#<font size=\"+2\" color='#053c96'><b> GitHub Link </b></font>"
      ],
      "metadata": {
        "id": "4T4F_wXiBI7f"
      }
    },
    {
      "cell_type": "markdown",
      "source": [
        "https://github.com/Naveen-King/Zomoto_Restaurant_Clustering_and_Sentiment_Analysis"
      ],
      "metadata": {
        "id": "h_h3HF8fBI45"
      }
    },
    {
      "cell_type": "markdown",
      "source": [
        "#<font size=\"+2\" color='#053c96'><b> Attribute Information </b></font>"
      ],
      "metadata": {
        "id": "aoYeO1oaBI1s"
      }
    },
    {
      "cell_type": "markdown",
      "source": [
        "## **Zomato Restaurant names and Metadata**\n",
        "Use this dataset for clustering part\n",
        "\n",
        "1. Name : Name of Restaurants\n",
        "\n",
        "2. Links : URL Links of Restaurants\n",
        "\n",
        "3. Cost : Per person estimated Cost of dining\n",
        "\n",
        "4. Collection : Tagging of Restaurants w.r.t. Zomato categories\n",
        "\n",
        "5. Cuisines : Cuisines served by Restaurants\n",
        "\n",
        "6. Timings : Restaurant Timings\n",
        "\n"
      ],
      "metadata": {
        "id": "eHYbWEHABIzJ"
      }
    },
    {
      "cell_type": "markdown",
      "source": [
        "## **Zomato Restaurant reviews**\n",
        "\n",
        "Merge this dataset with Names and Matadata and then use for sentiment analysis part\n",
        "\n",
        "1. Restaurant : Name of the Restaurant\n",
        "\n",
        "2. Reviewer : Name of the Reviewer\n",
        "\n",
        "3. Review : Review Text\n",
        "\n",
        "4. Rating : Rating Provided by Reviewer\n",
        "\n",
        "5. MetaData : Reviewer Metadata - No. of Reviews and followers\n",
        "\n",
        "6. Time: Date and Time of Review\n",
        "\n",
        "7. Pictures : No. of pictures posted with review\n",
        "\n"
      ],
      "metadata": {
        "id": "2evD4yf8BIwA"
      }
    },
    {
      "cell_type": "markdown",
      "source": [
        "# **Data Cleaning and Pre-Processing**"
      ],
      "metadata": {
        "id": "tZI7Tf8QED1g"
      }
    },
    {
      "cell_type": "code",
      "execution_count": 1,
      "metadata": {
        "id": "KO0Sdhj24VVc"
      },
      "outputs": [],
      "source": [
        "# importing libraries and modules\n",
        "import numpy as np\n",
        "import pandas as pd\n",
        "import matplotlib.pyplot as plt\n",
        "import seaborn as sns\n",
        "%matplotlib inline\n",
        "from wordcloud import WordCloud"
      ]
    },
    {
      "cell_type": "code",
      "source": [
        "from google.colab import drive\n",
        "drive.mount('/content/drive')"
      ],
      "metadata": {
        "colab": {
          "base_uri": "https://localhost:8080/"
        },
        "id": "pZC2S9jvEaC7",
        "outputId": "52253f3b-2fb9-47b7-f743-9fa18581a70d"
      },
      "execution_count": 2,
      "outputs": [
        {
          "output_type": "stream",
          "name": "stdout",
          "text": [
            "Mounted at /content/drive\n"
          ]
        }
      ]
    },
    {
      "cell_type": "code",
      "source": [],
      "metadata": {
        "colab": {
          "base_uri": "https://localhost:8080/"
        },
        "id": "EV8nz7XpEZ_Z",
        "outputId": "dc556a72-ef50-48a0-910a-6ae82a11865b"
      },
      "execution_count": 6,
      "outputs": [
        {
          "output_type": "error",
          "ename": "UnicodeDecodeError",
          "evalue": "ignored",
          "traceback": [
            "\u001b[0;31m---------------------------------------------------------------------------\u001b[0m",
            "\u001b[0;31mUnicodeDecodeError\u001b[0m                        Traceback (most recent call last)",
            "\u001b[0;32m<ipython-input-6-0b7c26e23c38>\u001b[0m in \u001b[0;36m<module>\u001b[0;34m\u001b[0m\n\u001b[1;32m      1\u001b[0m \u001b[0;31m#importing datasets\u001b[0m\u001b[0;34m\u001b[0m\u001b[0;34m\u001b[0m\u001b[0;34m\u001b[0m\u001b[0m\n\u001b[0;32m----> 2\u001b[0;31m \u001b[0mmeta_df_main\u001b[0m \u001b[0;34m=\u001b[0m \u001b[0mpd\u001b[0m\u001b[0;34m.\u001b[0m\u001b[0mread_csv\u001b[0m\u001b[0;34m(\u001b[0m\u001b[0;34m'/content/drive/MyDrive/Capstone Project/zomato.csv'\u001b[0m\u001b[0;34m)\u001b[0m\u001b[0;34m\u001b[0m\u001b[0;34m\u001b[0m\u001b[0m\n\u001b[0m\u001b[1;32m      3\u001b[0m \u001b[0mreview_df\u001b[0m \u001b[0;34m=\u001b[0m \u001b[0mpd\u001b[0m\u001b[0;34m.\u001b[0m\u001b[0mread_csv\u001b[0m\u001b[0;34m(\u001b[0m\u001b[0;34m'/content/drive/MyDrive/Capstone Project/Zomato Restaurant reviews.csv'\u001b[0m\u001b[0;34m)\u001b[0m\u001b[0;34m\u001b[0m\u001b[0;34m\u001b[0m\u001b[0m\n",
            "\u001b[0;32m/usr/local/lib/python3.8/dist-packages/pandas/util/_decorators.py\u001b[0m in \u001b[0;36mwrapper\u001b[0;34m(*args, **kwargs)\u001b[0m\n\u001b[1;32m    309\u001b[0m                     \u001b[0mstacklevel\u001b[0m\u001b[0;34m=\u001b[0m\u001b[0mstacklevel\u001b[0m\u001b[0;34m,\u001b[0m\u001b[0;34m\u001b[0m\u001b[0;34m\u001b[0m\u001b[0m\n\u001b[1;32m    310\u001b[0m                 )\n\u001b[0;32m--> 311\u001b[0;31m             \u001b[0;32mreturn\u001b[0m \u001b[0mfunc\u001b[0m\u001b[0;34m(\u001b[0m\u001b[0;34m*\u001b[0m\u001b[0margs\u001b[0m\u001b[0;34m,\u001b[0m \u001b[0;34m**\u001b[0m\u001b[0mkwargs\u001b[0m\u001b[0;34m)\u001b[0m\u001b[0;34m\u001b[0m\u001b[0;34m\u001b[0m\u001b[0m\n\u001b[0m\u001b[1;32m    312\u001b[0m \u001b[0;34m\u001b[0m\u001b[0m\n\u001b[1;32m    313\u001b[0m         \u001b[0;32mreturn\u001b[0m \u001b[0mwrapper\u001b[0m\u001b[0;34m\u001b[0m\u001b[0;34m\u001b[0m\u001b[0m\n",
            "\u001b[0;32m/usr/local/lib/python3.8/dist-packages/pandas/io/parsers/readers.py\u001b[0m in \u001b[0;36mread_csv\u001b[0;34m(filepath_or_buffer, sep, delimiter, header, names, index_col, usecols, squeeze, prefix, mangle_dupe_cols, dtype, engine, converters, true_values, false_values, skipinitialspace, skiprows, skipfooter, nrows, na_values, keep_default_na, na_filter, verbose, skip_blank_lines, parse_dates, infer_datetime_format, keep_date_col, date_parser, dayfirst, cache_dates, iterator, chunksize, compression, thousands, decimal, lineterminator, quotechar, quoting, doublequote, escapechar, comment, encoding, encoding_errors, dialect, error_bad_lines, warn_bad_lines, on_bad_lines, delim_whitespace, low_memory, memory_map, float_precision, storage_options)\u001b[0m\n\u001b[1;32m    584\u001b[0m     \u001b[0mkwds\u001b[0m\u001b[0;34m.\u001b[0m\u001b[0mupdate\u001b[0m\u001b[0;34m(\u001b[0m\u001b[0mkwds_defaults\u001b[0m\u001b[0;34m)\u001b[0m\u001b[0;34m\u001b[0m\u001b[0;34m\u001b[0m\u001b[0m\n\u001b[1;32m    585\u001b[0m \u001b[0;34m\u001b[0m\u001b[0m\n\u001b[0;32m--> 586\u001b[0;31m     \u001b[0;32mreturn\u001b[0m \u001b[0m_read\u001b[0m\u001b[0;34m(\u001b[0m\u001b[0mfilepath_or_buffer\u001b[0m\u001b[0;34m,\u001b[0m \u001b[0mkwds\u001b[0m\u001b[0;34m)\u001b[0m\u001b[0;34m\u001b[0m\u001b[0;34m\u001b[0m\u001b[0m\n\u001b[0m\u001b[1;32m    587\u001b[0m \u001b[0;34m\u001b[0m\u001b[0m\n\u001b[1;32m    588\u001b[0m \u001b[0;34m\u001b[0m\u001b[0m\n",
            "\u001b[0;32m/usr/local/lib/python3.8/dist-packages/pandas/io/parsers/readers.py\u001b[0m in \u001b[0;36m_read\u001b[0;34m(filepath_or_buffer, kwds)\u001b[0m\n\u001b[1;32m    480\u001b[0m \u001b[0;34m\u001b[0m\u001b[0m\n\u001b[1;32m    481\u001b[0m     \u001b[0;31m# Create the parser.\u001b[0m\u001b[0;34m\u001b[0m\u001b[0;34m\u001b[0m\u001b[0;34m\u001b[0m\u001b[0m\n\u001b[0;32m--> 482\u001b[0;31m     \u001b[0mparser\u001b[0m \u001b[0;34m=\u001b[0m \u001b[0mTextFileReader\u001b[0m\u001b[0;34m(\u001b[0m\u001b[0mfilepath_or_buffer\u001b[0m\u001b[0;34m,\u001b[0m \u001b[0;34m**\u001b[0m\u001b[0mkwds\u001b[0m\u001b[0;34m)\u001b[0m\u001b[0;34m\u001b[0m\u001b[0;34m\u001b[0m\u001b[0m\n\u001b[0m\u001b[1;32m    483\u001b[0m \u001b[0;34m\u001b[0m\u001b[0m\n\u001b[1;32m    484\u001b[0m     \u001b[0;32mif\u001b[0m \u001b[0mchunksize\u001b[0m \u001b[0;32mor\u001b[0m \u001b[0miterator\u001b[0m\u001b[0;34m:\u001b[0m\u001b[0;34m\u001b[0m\u001b[0;34m\u001b[0m\u001b[0m\n",
            "\u001b[0;32m/usr/local/lib/python3.8/dist-packages/pandas/io/parsers/readers.py\u001b[0m in \u001b[0;36m__init__\u001b[0;34m(self, f, engine, **kwds)\u001b[0m\n\u001b[1;32m    809\u001b[0m             \u001b[0mself\u001b[0m\u001b[0;34m.\u001b[0m\u001b[0moptions\u001b[0m\u001b[0;34m[\u001b[0m\u001b[0;34m\"has_index_names\"\u001b[0m\u001b[0;34m]\u001b[0m \u001b[0;34m=\u001b[0m \u001b[0mkwds\u001b[0m\u001b[0;34m[\u001b[0m\u001b[0;34m\"has_index_names\"\u001b[0m\u001b[0;34m]\u001b[0m\u001b[0;34m\u001b[0m\u001b[0;34m\u001b[0m\u001b[0m\n\u001b[1;32m    810\u001b[0m \u001b[0;34m\u001b[0m\u001b[0m\n\u001b[0;32m--> 811\u001b[0;31m         \u001b[0mself\u001b[0m\u001b[0;34m.\u001b[0m\u001b[0m_engine\u001b[0m \u001b[0;34m=\u001b[0m \u001b[0mself\u001b[0m\u001b[0;34m.\u001b[0m\u001b[0m_make_engine\u001b[0m\u001b[0;34m(\u001b[0m\u001b[0mself\u001b[0m\u001b[0;34m.\u001b[0m\u001b[0mengine\u001b[0m\u001b[0;34m)\u001b[0m\u001b[0;34m\u001b[0m\u001b[0;34m\u001b[0m\u001b[0m\n\u001b[0m\u001b[1;32m    812\u001b[0m \u001b[0;34m\u001b[0m\u001b[0m\n\u001b[1;32m    813\u001b[0m     \u001b[0;32mdef\u001b[0m \u001b[0mclose\u001b[0m\u001b[0;34m(\u001b[0m\u001b[0mself\u001b[0m\u001b[0;34m)\u001b[0m\u001b[0;34m:\u001b[0m\u001b[0;34m\u001b[0m\u001b[0;34m\u001b[0m\u001b[0m\n",
            "\u001b[0;32m/usr/local/lib/python3.8/dist-packages/pandas/io/parsers/readers.py\u001b[0m in \u001b[0;36m_make_engine\u001b[0;34m(self, engine)\u001b[0m\n\u001b[1;32m   1038\u001b[0m             )\n\u001b[1;32m   1039\u001b[0m         \u001b[0;31m# error: Too many arguments for \"ParserBase\"\u001b[0m\u001b[0;34m\u001b[0m\u001b[0;34m\u001b[0m\u001b[0;34m\u001b[0m\u001b[0m\n\u001b[0;32m-> 1040\u001b[0;31m         \u001b[0;32mreturn\u001b[0m \u001b[0mmapping\u001b[0m\u001b[0;34m[\u001b[0m\u001b[0mengine\u001b[0m\u001b[0;34m]\u001b[0m\u001b[0;34m(\u001b[0m\u001b[0mself\u001b[0m\u001b[0;34m.\u001b[0m\u001b[0mf\u001b[0m\u001b[0;34m,\u001b[0m \u001b[0;34m**\u001b[0m\u001b[0mself\u001b[0m\u001b[0;34m.\u001b[0m\u001b[0moptions\u001b[0m\u001b[0;34m)\u001b[0m  \u001b[0;31m# type: ignore[call-arg]\u001b[0m\u001b[0;34m\u001b[0m\u001b[0;34m\u001b[0m\u001b[0m\n\u001b[0m\u001b[1;32m   1041\u001b[0m \u001b[0;34m\u001b[0m\u001b[0m\n\u001b[1;32m   1042\u001b[0m     \u001b[0;32mdef\u001b[0m \u001b[0m_failover_to_python\u001b[0m\u001b[0;34m(\u001b[0m\u001b[0mself\u001b[0m\u001b[0;34m)\u001b[0m\u001b[0;34m:\u001b[0m\u001b[0;34m\u001b[0m\u001b[0;34m\u001b[0m\u001b[0m\n",
            "\u001b[0;32m/usr/local/lib/python3.8/dist-packages/pandas/io/parsers/c_parser_wrapper.py\u001b[0m in \u001b[0;36m__init__\u001b[0;34m(self, src, **kwds)\u001b[0m\n\u001b[1;32m     67\u001b[0m         \u001b[0mkwds\u001b[0m\u001b[0;34m[\u001b[0m\u001b[0;34m\"dtype\"\u001b[0m\u001b[0;34m]\u001b[0m \u001b[0;34m=\u001b[0m \u001b[0mensure_dtype_objs\u001b[0m\u001b[0;34m(\u001b[0m\u001b[0mkwds\u001b[0m\u001b[0;34m.\u001b[0m\u001b[0mget\u001b[0m\u001b[0;34m(\u001b[0m\u001b[0;34m\"dtype\"\u001b[0m\u001b[0;34m,\u001b[0m \u001b[0;32mNone\u001b[0m\u001b[0;34m)\u001b[0m\u001b[0;34m)\u001b[0m\u001b[0;34m\u001b[0m\u001b[0;34m\u001b[0m\u001b[0m\n\u001b[1;32m     68\u001b[0m         \u001b[0;32mtry\u001b[0m\u001b[0;34m:\u001b[0m\u001b[0;34m\u001b[0m\u001b[0;34m\u001b[0m\u001b[0m\n\u001b[0;32m---> 69\u001b[0;31m             \u001b[0mself\u001b[0m\u001b[0;34m.\u001b[0m\u001b[0m_reader\u001b[0m \u001b[0;34m=\u001b[0m \u001b[0mparsers\u001b[0m\u001b[0;34m.\u001b[0m\u001b[0mTextReader\u001b[0m\u001b[0;34m(\u001b[0m\u001b[0mself\u001b[0m\u001b[0;34m.\u001b[0m\u001b[0mhandles\u001b[0m\u001b[0;34m.\u001b[0m\u001b[0mhandle\u001b[0m\u001b[0;34m,\u001b[0m \u001b[0;34m**\u001b[0m\u001b[0mkwds\u001b[0m\u001b[0;34m)\u001b[0m\u001b[0;34m\u001b[0m\u001b[0;34m\u001b[0m\u001b[0m\n\u001b[0m\u001b[1;32m     70\u001b[0m         \u001b[0;32mexcept\u001b[0m \u001b[0mException\u001b[0m\u001b[0;34m:\u001b[0m\u001b[0;34m\u001b[0m\u001b[0;34m\u001b[0m\u001b[0m\n\u001b[1;32m     71\u001b[0m             \u001b[0mself\u001b[0m\u001b[0;34m.\u001b[0m\u001b[0mhandles\u001b[0m\u001b[0;34m.\u001b[0m\u001b[0mclose\u001b[0m\u001b[0;34m(\u001b[0m\u001b[0;34m)\u001b[0m\u001b[0;34m\u001b[0m\u001b[0;34m\u001b[0m\u001b[0m\n",
            "\u001b[0;32m/usr/local/lib/python3.8/dist-packages/pandas/_libs/parsers.pyx\u001b[0m in \u001b[0;36mpandas._libs.parsers.TextReader.__cinit__\u001b[0;34m()\u001b[0m\n",
            "\u001b[0;32m/usr/local/lib/python3.8/dist-packages/pandas/_libs/parsers.pyx\u001b[0m in \u001b[0;36mpandas._libs.parsers.TextReader._get_header\u001b[0;34m()\u001b[0m\n",
            "\u001b[0;32m/usr/local/lib/python3.8/dist-packages/pandas/_libs/parsers.pyx\u001b[0m in \u001b[0;36mpandas._libs.parsers.TextReader._tokenize_rows\u001b[0;34m()\u001b[0m\n",
            "\u001b[0;32m/usr/local/lib/python3.8/dist-packages/pandas/_libs/parsers.pyx\u001b[0m in \u001b[0;36mpandas._libs.parsers.raise_parser_error\u001b[0;34m()\u001b[0m\n",
            "\u001b[0;31mUnicodeDecodeError\u001b[0m: 'utf-8' codec can't decode byte 0xed in position 7044: invalid continuation byte"
          ]
        }
      ]
    },
    {
      "cell_type": "code",
      "source": [],
      "metadata": {
        "id": "x4RgpP3fEZ54"
      },
      "execution_count": null,
      "outputs": []
    },
    {
      "cell_type": "code",
      "source": [],
      "metadata": {
        "id": "vp0ThqpOEZ2f"
      },
      "execution_count": null,
      "outputs": []
    },
    {
      "cell_type": "code",
      "source": [],
      "metadata": {
        "id": "U-wNtybtEZzi"
      },
      "execution_count": null,
      "outputs": []
    },
    {
      "cell_type": "code",
      "source": [],
      "metadata": {
        "id": "oaFrsYZdEZwT"
      },
      "execution_count": null,
      "outputs": []
    },
    {
      "cell_type": "code",
      "source": [],
      "metadata": {
        "id": "gUz1Qk2oEZtI"
      },
      "execution_count": null,
      "outputs": []
    },
    {
      "cell_type": "code",
      "source": [],
      "metadata": {
        "id": "gzw51VYgEZqG"
      },
      "execution_count": null,
      "outputs": []
    },
    {
      "cell_type": "code",
      "source": [],
      "metadata": {
        "id": "J-mhXfX0EZnE"
      },
      "execution_count": null,
      "outputs": []
    },
    {
      "cell_type": "code",
      "source": [],
      "metadata": {
        "id": "1kTCgxZ5EZkN"
      },
      "execution_count": null,
      "outputs": []
    },
    {
      "cell_type": "code",
      "source": [],
      "metadata": {
        "id": "ASrXPFUiEZhW"
      },
      "execution_count": null,
      "outputs": []
    },
    {
      "cell_type": "code",
      "source": [],
      "metadata": {
        "id": "oEZRS3IbEZec"
      },
      "execution_count": null,
      "outputs": []
    },
    {
      "cell_type": "code",
      "source": [],
      "metadata": {
        "id": "1O-vHypREZbg"
      },
      "execution_count": null,
      "outputs": []
    },
    {
      "cell_type": "code",
      "source": [],
      "metadata": {
        "id": "rDr7MRz6EZY0"
      },
      "execution_count": null,
      "outputs": []
    },
    {
      "cell_type": "code",
      "source": [],
      "metadata": {
        "id": "939ECAG9EZWL"
      },
      "execution_count": null,
      "outputs": []
    },
    {
      "cell_type": "code",
      "source": [],
      "metadata": {
        "id": "Gbm5e5sREZTd"
      },
      "execution_count": null,
      "outputs": []
    },
    {
      "cell_type": "code",
      "source": [],
      "metadata": {
        "id": "rFCD5vKPEZQi"
      },
      "execution_count": null,
      "outputs": []
    },
    {
      "cell_type": "code",
      "source": [],
      "metadata": {
        "id": "9gujt1umEZNy"
      },
      "execution_count": null,
      "outputs": []
    },
    {
      "cell_type": "code",
      "source": [],
      "metadata": {
        "id": "mIT5VseTEZKn"
      },
      "execution_count": null,
      "outputs": []
    },
    {
      "cell_type": "code",
      "source": [],
      "metadata": {
        "id": "IZJdcRZLEZHg"
      },
      "execution_count": null,
      "outputs": []
    },
    {
      "cell_type": "code",
      "source": [],
      "metadata": {
        "id": "9X9ZocMNEZEn"
      },
      "execution_count": null,
      "outputs": []
    },
    {
      "cell_type": "code",
      "source": [],
      "metadata": {
        "id": "1affuQIlEYx4"
      },
      "execution_count": null,
      "outputs": []
    }
  ]
}